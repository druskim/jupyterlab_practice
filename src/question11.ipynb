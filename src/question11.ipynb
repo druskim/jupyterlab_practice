{
 "cells": [
  {
   "cell_type": "markdown",
   "id": "12d22a3c-1144-46e6-a0a9-af14b2bf9451",
   "metadata": {},
   "source": [
    "# Andrew Muir\n",
    "Notebook for assignment 7"
   ]
  },
  {
   "cell_type": "code",
   "execution_count": 3,
   "id": "cf01bdd8-2d66-43c9-9ce7-251509e4cc8f",
   "metadata": {},
   "outputs": [
    {
     "data": {
      "text/plain": [
       "5.0"
      ]
     },
     "execution_count": 3,
     "metadata": {},
     "output_type": "execute_result"
    }
   ],
   "source": [
    "def compute_mean(numbers):\n",
    "    lst_len = len(numbers)\n",
    "    lst_avg = sum(numbers)/lst_len\n",
    "    return lst_avg\n",
    "    \n",
    "compute_mean([2,4,6,8])"
   ]
  },
  {
   "cell_type": "markdown",
   "id": "b21d8238-167f-4ac0-b9b2-74abcf628ec6",
   "metadata": {},
   "source": [
    "$$\n",
    "\\bar{x} = \\frac{x_1 + x_2 + ... + x_n}{n} = \\frac{1}{n}\\Bigg(\\sum_{i=1}^n x_i \\Bigg)\n",
    "$$"
   ]
  },
  {
   "cell_type": "code",
   "execution_count": null,
   "id": "1d458662-9cc1-49dc-84de-2e4ec28a445e",
   "metadata": {},
   "outputs": [],
   "source": []
  }
 ],
 "metadata": {
  "kernelspec": {
   "display_name": "Python 3 (ipykernel)",
   "language": "python",
   "name": "python3"
  },
  "language_info": {
   "codemirror_mode": {
    "name": "ipython",
    "version": 3
   },
   "file_extension": ".py",
   "mimetype": "text/x-python",
   "name": "python",
   "nbconvert_exporter": "python",
   "pygments_lexer": "ipython3",
   "version": "3.10.9"
  }
 },
 "nbformat": 4,
 "nbformat_minor": 5
}
